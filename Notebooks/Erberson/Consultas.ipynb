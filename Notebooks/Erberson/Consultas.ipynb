{
 "cells": [
  {
   "cell_type": "code",
   "execution_count": 2,
   "id": "6e60ab0a",
   "metadata": {},
   "outputs": [],
   "source": [
    "from dash import Dash, html, dcc, Input, Output\n",
    "#import dash_bootstrap_components as dbc\n",
    "import plotly.express as px\n",
    "import pandas as pd\n",
    "import json\n",
    "import plotly.graph_objects as go"
   ]
  },
  {
   "cell_type": "code",
   "execution_count": 13,
   "id": "e202103b",
   "metadata": {
    "scrolled": false
   },
   "outputs": [],
   "source": [
    "database = pd.read_csv('database.csv')\n"
   ]
  },
  {
   "cell_type": "code",
   "execution_count": 14,
   "id": "920e988a",
   "metadata": {},
   "outputs": [
    {
     "ename": "NameError",
     "evalue": "name 'df_estado' is not defined",
     "output_type": "error",
     "traceback": [
      "\u001b[1;31m---------------------------------------------------------------------------\u001b[0m",
      "\u001b[1;31mNameError\u001b[0m                                 Traceback (most recent call last)",
      "Input \u001b[1;32mIn [14]\u001b[0m, in \u001b[0;36m<cell line: 1>\u001b[1;34m()\u001b[0m\n\u001b[0;32m      1\u001b[0m fig2 \u001b[38;5;241m=\u001b[39m go\u001b[38;5;241m.\u001b[39mFigure(data\u001b[38;5;241m=\u001b[39m[go\u001b[38;5;241m.\u001b[39mTable(\n\u001b[1;32m----> 2\u001b[0m     header\u001b[38;5;241m=\u001b[39m\u001b[38;5;28mdict\u001b[39m(values\u001b[38;5;241m=\u001b[39m\u001b[38;5;28mlist\u001b[39m(\u001b[43mdf_estado\u001b[49m\u001b[38;5;241m.\u001b[39mcolumns), ),\n\u001b[0;32m      3\u001b[0m     cells\u001b[38;5;241m=\u001b[39m\u001b[38;5;28mdict\u001b[39m(values\u001b[38;5;241m=\u001b[39m[df_estado\u001b[38;5;241m.\u001b[39mUF, df_estado\u001b[38;5;241m.\u001b[39mEstado, df_estado\u001b[38;5;241m.\u001b[39mRegiao, df_estado\u001b[38;5;241m.\u001b[39mQUANTIDADE], )\n\u001b[0;32m      4\u001b[0m )])\n",
      "\u001b[1;31mNameError\u001b[0m: name 'df_estado' is not defined"
     ]
    }
   ],
   "source": [
    "fig2 = go.Figure(data=[go.Table(\n",
    "    header=dict(values=list(df_estado.columns), ),\n",
    "    cells=dict(values=[df_estado.UF, df_estado.Estado, df_estado.Regiao, df_estado.QUANTIDADE], )\n",
    ")])"
   ]
  },
  {
   "cell_type": "code",
   "execution_count": null,
   "id": "5eb20eae",
   "metadata": {},
   "outputs": [],
   "source": []
  }
 ],
 "metadata": {
  "kernelspec": {
   "display_name": "Python 3 (ipykernel)",
   "language": "python",
   "name": "python3"
  },
  "language_info": {
   "codemirror_mode": {
    "name": "ipython",
    "version": 3
   },
   "file_extension": ".py",
   "mimetype": "text/x-python",
   "name": "python",
   "nbconvert_exporter": "python",
   "pygments_lexer": "ipython3",
   "version": "3.9.12"
  }
 },
 "nbformat": 4,
 "nbformat_minor": 5
}
